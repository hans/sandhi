{
 "cells": [
  {
   "cell_type": "code",
   "execution_count": 19,
   "id": "84763c3a-fb3d-4478-bf04-4da32945e5bf",
   "metadata": {},
   "outputs": [
    {
     "name": "stdout",
     "output_type": "stream",
     "text": [
      "SSB00050001.wav,广 州 女 大 学 生 登 山 失 联 四 天 警 方 找 到 疑 似 女 尸 \n",
      "SSB00050002.wav,尊 重 科 学 规 律 的 要 求 \n",
      "SSB00050003.wav,七 路 无 人 售 票 \n",
      "SSB00050004.wav,黑 客 宣 布 只 要 拨 打 某 一 个 电 话 \n",
      "SSB00050005.wav,北 京 万 科 总 经 理 刘 肖 的 观 点 极 具 代 表 性 \n",
      "SSB00050006.wav,五 百 四 十 五 万 七 千 一 百 二 十 二 \n",
      "SSB00050007.wav,广 州 大 学 城 女 尸 案 嫌 疑 犯 变 供 称 死 者 为 女 友 \n",
      "SSB00050008.wav,搜 狐 娱 乐 讯 据 台 湾 媒 体 报 道 \n",
      "SSB00050009.wav,北 郊 \n",
      "SSB00050010.wav,职 业 联 赛 该 干 的 让 职 业 联 赛 干 \n",
      "cat: Schreibfehler: Datenübergabe unterbrochen (broken pipe)\n",
      "SSB00050001.wav,guang3 zhou1 nv3 da4 xue2 sheng1 deng1 shan1 shi1 lian2 si4 tian1 jing3 fang1 zhao3 dao4 yi2 si4 nv3 shi1 \n",
      "SSB00050002.wav,zhun1 zhong4 ke1 xue2 gui1 lv4 de5 yao1 qiu2 \n",
      "SSB00050003.wav,qi1 lu4 wu2 ren2 shou4 piao4 \n",
      "SSB00050004.wav,hei1 ke4 xuan1 bu4 zhi3 yao4 bo1 da2 mou3 yi2 ge4 dian4 hua4 \n",
      "SSB00050005.wav,bei3 jing1 wan4 ke1 zhong3 jing1 li3 liu2 xiao1 de5 guan1 dian3 ji2 ju4 dai4 biao3 xing4 \n",
      "SSB00050006.wav,wu2 bai3 si4 shi2 wu3 wan4 qi1 qian1 yi1 bai3 er4 shi2 er4 \n",
      "SSB00050007.wav,guang3 zhou1 da4 xue2 cheng2 nv3 shi1 an4 xian2 yi2 fan4 bian4 gong1 cheng1 si2 zhe3 wei2 nv2 you3 \n",
      "SSB00050008.wav,shou1 hu2 yu2 le4 xun4 ju4 tai2 wan1 mei2 ti3 bao4 dao4 \n",
      "SSB00050009.wav,bei3 jiao1 \n",
      "SSB00050010.wav,zhi2 ye4 lian2 sai4 gai1 gan4 de5 rang4 zhi2 ye4 lian2 sai4 gan4 \n",
      "cat: Schreibfehler: Datenübergabe unterbrochen (broken pipe)\n"
     ]
    }
   ],
   "source": [
    "# Extract Hanzi\n",
    "!cat train/content.txt | awk 'BEGIN {OFS=\",\"} {printf(\"%s%s\", $1, OFS); for (i=2;i<NF;i+=2) printf(\"%s \", $i); printf(\"\\n\")}' | head\n",
    "# Extract Pinyin\n",
    "!cat train/content.txt | awk 'BEGIN {OFS=\",\"} {printf(\"%s%s\", $1, OFS); for (i=3;i<=NF;i+=2) { sub(\"\\r\", \"\", $i); printf(\"%s \", $i); } printf(\"\\n\")}' | head"
   ]
  },
  {
   "cell_type": "code",
   "execution_count": 20,
   "id": "6e2bc523-3939-4c26-8f72-0c5d496bcfce",
   "metadata": {},
   "outputs": [],
   "source": [
    "!cat train/content.txt | awk 'BEGIN {OFS=\",\"} {printf(\"%s%s\", $1, OFS); for (i=3;i<=NF;i+=2) { sub(\"\\r\", \"\", $i); printf(\"%s \", $i); } printf(OFS); for (i=2;i<NF;i+=2) printf(\"%s \", $i); printf(\"\\n\")}' > train.sep.txt"
   ]
  }
 ],
 "metadata": {
  "kernelspec": {
   "display_name": "Python 3 (ipykernel)",
   "language": "python",
   "name": "python3"
  },
  "language_info": {
   "codemirror_mode": {
    "name": "ipython",
    "version": 3
   },
   "file_extension": ".py",
   "mimetype": "text/x-python",
   "name": "python",
   "nbconvert_exporter": "python",
   "pygments_lexer": "ipython3",
   "version": "3.10.13"
  }
 },
 "nbformat": 4,
 "nbformat_minor": 5
}
