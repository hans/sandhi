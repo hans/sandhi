{
 "cells": [
  {
   "cell_type": "code",
   "execution_count": 14,
   "id": "6ba2c000-c05b-407b-aee3-76af1485ebc7",
   "metadata": {},
   "outputs": [],
   "source": [
    "from pathlib import Path\n",
    "\n",
    "import pandas as pd\n",
    "import textgrid\n",
    "from tqdm.auto import tqdm"
   ]
  },
  {
   "cell_type": "code",
   "execution_count": 16,
   "id": "ae5eeaad-2036-4550-9746-7d72b867b196",
   "metadata": {},
   "outputs": [
    {
     "name": "stderr",
     "output_type": "stream",
     "text": [
      "100%|█████████████████████████████████████████████████████████████████| 63262/63262 [00:12<00:00, 5030.00it/s]\n"
     ]
    }
   ],
   "source": [
    "paths = list(Path(\"intermediates/AISHELL/aligned\").glob(\"**/*.TextGrid\"))\n",
    "tg_df = pd.concat([pd.DataFrame(textgrid.read_textgrid(str(path)))\n",
    "                   for path in tqdm(paths)],\n",
    "                  names=[\"file\"], keys=[p.stem for p in paths])"
   ]
  },
  {
   "cell_type": "code",
   "execution_count": 30,
   "id": "0897d794-ddab-4f52-a2ad-5588fa319f0d",
   "metadata": {},
   "outputs": [],
   "source": [
    "word_df = tg_df[tg_df.tier == \"words\"].copy().drop(columns=[\"tier\"]).rename(columns={\"name\": \"text\"})\n",
    "word_df.index.rename(\"word_idx\", level=1, inplace=True)\n",
    "word_df.to_csv(\"intermediates/AISHELL/words_aligned.csv\")"
   ]
  }
 ],
 "metadata": {
  "kernelspec": {
   "display_name": "Python 3 (ipykernel)",
   "language": "python",
   "name": "python3"
  },
  "language_info": {
   "codemirror_mode": {
    "name": "ipython",
    "version": 3
   },
   "file_extension": ".py",
   "mimetype": "text/x-python",
   "name": "python",
   "nbconvert_exporter": "python",
   "pygments_lexer": "ipython3",
   "version": "3.11.5"
  }
 },
 "nbformat": 4,
 "nbformat_minor": 5
}
